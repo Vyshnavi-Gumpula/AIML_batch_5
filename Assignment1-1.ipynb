{
  "nbformat": 4,
  "nbformat_minor": 0,
  "metadata": {
    "colab": {
      "provenance": [],
      "authorship_tag": "ABX9TyMJ6zb82najKCTbE+1JeIqd",
      "include_colab_link": true
    },
    "kernelspec": {
      "name": "python3",
      "display_name": "Python 3"
    },
    "language_info": {
      "name": "python"
    }
  },
  "cells": [
    {
      "cell_type": "markdown",
      "metadata": {
        "id": "view-in-github",
        "colab_type": "text"
      },
      "source": [
        "<a href=\"https://colab.research.google.com/github/Vyshnavi-Gumpula/AIML_batch_5/blob/main/Assignment1-1.ipynb\" target=\"_parent\"><img src=\"https://colab.research.google.com/assets/colab-badge.svg\" alt=\"Open In Colab\"/></a>"
      ]
    },
    {
      "cell_type": "code",
      "execution_count": 1,
      "metadata": {
        "colab": {
          "base_uri": "https://localhost:8080/"
        },
        "id": "q03CyeBjey1P",
        "outputId": "2bf0082e-6717-4ad7-9520-d257030ee278"
      },
      "outputs": [
        {
          "output_type": "stream",
          "name": "stdout",
          "text": [
            "Type of list1: <class 'list'>\n",
            "Type of array1: <class 'numpy.ndarray'>\n",
            "Multiplication of array1 and array2: [ 6 14 24 36 50]\n",
            "Division of array1 by array2: [0.16666667 0.28571429 0.375      0.44444444 0.5       ]\n",
            "Power of array1 to array2: [      1     128    6561  262144 9765625]\n",
            "Addition of Two arrays: [ 7  9 11 13 15]\n",
            "Sin of array1: [ 0.84147098  0.90929743  0.14112001 -0.7568025  -0.95892427]\n",
            "Log of array1: [0.         0.69314718 1.09861229 1.38629436 1.60943791]\n",
            "Log2 of array1: [0.         1.         1.5849625  2.         2.32192809]\n",
            "Exponential of array1: [  2.71828183   7.3890561   20.08553692  54.59815003 148.4131591 ]\n"
          ]
        }
      ],
      "source": [
        "import numpy as np\n",
        "import pandas as pd\n",
        "\n",
        "# 1. Lists\n",
        "list1 = [1, 2, 3, 4, 5]\n",
        "list2 = [6, 7, 8, 9, 10]\n",
        "\n",
        "# 2. Arrays using NumPy\n",
        "array1 = np.array(list1)\n",
        "array2 = np.array(list2)\n",
        "\n",
        "# 3. Identifying types\n",
        "print(\"Type of list1:\", type(list1))\n",
        "print(\"Type of array1:\", type(array1))\n",
        "\n",
        "# 4. Mathematical operations\n",
        "print(\"Multiplication of array1 and array2:\", array1 * array2)\n",
        "print(\"Division of array1 by array2:\", array1 / array2)\n",
        "print(\"Power of array1 to array2:\", array1 ** array2)\n",
        "\n",
        "# 5. Combining text with NumPy function\n",
        "print(\"Addition of Two arrays:\", np.add(array1, array2))\n",
        "\n",
        "# 6. NumPy functions\n",
        "print(\"Sin of array1:\", np.sin(array1))\n",
        "print(\"Log of array1:\", np.log(array1))\n",
        "print(\"Log2 of array1:\", np.log2(array1))\n",
        "print(\"Exponential of array1:\", np.exp(array1))"
      ]
    }
  ]
}