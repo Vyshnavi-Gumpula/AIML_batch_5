{
  "nbformat": 4,
  "nbformat_minor": 0,
  "metadata": {
    "colab": {
      "provenance": [],
      "authorship_tag": "ABX9TyPc/YtNx+rHnHV/bBPgd40V",
      "include_colab_link": true
    },
    "kernelspec": {
      "name": "python3",
      "display_name": "Python 3"
    },
    "language_info": {
      "name": "python"
    }
  },
  "cells": [
    {
      "cell_type": "markdown",
      "metadata": {
        "id": "view-in-github",
        "colab_type": "text"
      },
      "source": [
        "<a href=\"https://colab.research.google.com/github/Vyshnavi-Gumpula/AIML_batch_5/blob/main/Assignment1-1.ipynb\" target=\"_parent\"><img src=\"https://colab.research.google.com/assets/colab-badge.svg\" alt=\"Open In Colab\"/></a>"
      ]
    },
    {
      "cell_type": "code",
      "execution_count": 1,
      "metadata": {
        "colab": {
          "base_uri": "https://localhost:8080/"
        },
        "id": "GMPveJubP6pp",
        "outputId": "f09d988c-937e-4814-f1ee-c210a7abf67a"
      },
      "outputs": [
        {
          "output_type": "stream",
          "name": "stdout",
          "text": [
            "Type of my_list: <class 'list'>\n"
          ]
        }
      ],
      "source": [
        "import pandas as pd\n",
        "\n",
        "# Creating a list\n",
        "my_list = [1, 2, 3, 4, 5]\n",
        "print(\"Type of my_list:\", type(my_list))\n"
      ]
    },
    {
      "cell_type": "code",
      "source": [
        "import numpy as np\n",
        "\n",
        "# Creating an array using numpy\n",
        "my_array = np.array([1, 2, 3, 4, 5])\n",
        "print(\"Type of my_array:\", type(my_array))\n"
      ],
      "metadata": {
        "colab": {
          "base_uri": "https://localhost:8080/"
        },
        "id": "Cud24ENzStEe",
        "outputId": "6a57eda9-79d3-4c0c-da40-cb4bf8304c6d"
      },
      "execution_count": 2,
      "outputs": [
        {
          "output_type": "stream",
          "name": "stdout",
          "text": [
            "Type of my_array: <class 'numpy.ndarray'>\n"
          ]
        }
      ]
    },
    {
      "cell_type": "code",
      "source": [
        "# Multiplication\n",
        "result_mul = my_array * 2\n",
        "\n",
        "# Division\n",
        "result_div = my_array / 2\n",
        "\n",
        "# Power\n",
        "result_power = my_array ** 2\n",
        "\n",
        "print(\"Multiplication:\", result_mul)\n",
        "print(\"Division:\", result_div)\n",
        "print(\"Power:\", result_power)\n"
      ],
      "metadata": {
        "colab": {
          "base_uri": "https://localhost:8080/"
        },
        "id": "yhJEBxonSxNh",
        "outputId": "ce24bf79-22a5-4000-cc6b-b6f58e225398"
      },
      "execution_count": 3,
      "outputs": [
        {
          "output_type": "stream",
          "name": "stdout",
          "text": [
            "Multiplication: [ 2  4  6  8 10]\n",
            "Division: [0.5 1.  1.5 2.  2.5]\n",
            "Power: [ 1  4  9 16 25]\n"
          ]
        }
      ]
    },
    {
      "cell_type": "code",
      "source": [
        "print(\"Addition of Two:\", np.add(my_array, my_array))\n"
      ],
      "metadata": {
        "colab": {
          "base_uri": "https://localhost:8080/"
        },
        "id": "CqgAB8GjS4pR",
        "outputId": "b02b059b-d80d-424c-906b-e927340d7405"
      },
      "execution_count": 4,
      "outputs": [
        {
          "output_type": "stream",
          "name": "stdout",
          "text": [
            "Addition of Two: [ 2  4  6  8 10]\n"
          ]
        }
      ]
    },
    {
      "cell_type": "code",
      "source": [
        "# Sine function\n",
        "result_sin = np.sin(my_array)\n",
        "\n",
        "# Natural logarithm\n",
        "result_log = np.log(my_array)\n",
        "\n",
        "# Base-2 logarithm\n",
        "result_log2 = np.log2(my_array)\n",
        "\n",
        "# Exponential function\n",
        "result_exp = np.exp(my_array)\n",
        "\n",
        "print(\"Sin:\", result_sin)\n",
        "print(\"Log:\", result_log)\n",
        "print(\"Log2:\", result_log2)\n",
        "print(\"Exponential:\", result_exp)\n"
      ],
      "metadata": {
        "colab": {
          "base_uri": "https://localhost:8080/"
        },
        "id": "IoAhheidS9nd",
        "outputId": "f6edfdfa-2e56-4db8-9d59-892e9cf429ac"
      },
      "execution_count": 5,
      "outputs": [
        {
          "output_type": "stream",
          "name": "stdout",
          "text": [
            "Sin: [ 0.84147098  0.90929743  0.14112001 -0.7568025  -0.95892427]\n",
            "Log: [0.         0.69314718 1.09861229 1.38629436 1.60943791]\n",
            "Log2: [0.         1.         1.5849625  2.         2.32192809]\n",
            "Exponential: [  2.71828183   7.3890561   20.08553692  54.59815003 148.4131591 ]\n"
          ]
        }
      ]
    },
    {
      "cell_type": "code",
      "source": [
        "import pandas as pd\n",
        "\n",
        "# Define the data\n",
        "people = ['Kiran', 'Arun', 'Vijay', 'Varun']\n",
        "age = [25, 30, 35, 40]\n",
        "height = [145, 151, 165, 173]\n",
        "weight = [45, 55, 65, 75]\n",
        "\n",
        "# Create a dictionary to hold the data\n",
        "data = {\n",
        "    'Name': people,\n",
        "    'Age': age,\n",
        "    'Height': height,\n",
        "    'Weight': weight\n",
        "}\n",
        "\n",
        "# Create a DataFrame\n",
        "df = pd.DataFrame(data)\n",
        "\n",
        "print(df)\n",
        "\n"
      ],
      "metadata": {
        "colab": {
          "base_uri": "https://localhost:8080/"
        },
        "id": "l-LYw46ATZQp",
        "outputId": "ba940a24-3146-429f-fb21-952c12e820f4"
      },
      "execution_count": 6,
      "outputs": [
        {
          "output_type": "stream",
          "name": "stdout",
          "text": [
            "    Name  Age  Height  Weight\n",
            "0  Kiran   25     145      45\n",
            "1   Arun   30     151      55\n",
            "2  Vijay   35     165      65\n",
            "3  Varun   40     173      75\n"
          ]
        }
      ]
    },
    {
      "cell_type": "code",
      "source": [
        "import matplotlib.pyplot as plt\n",
        "\n",
        "plt.scatter(df['Age'], df['Height'])\n",
        "plt.title('Scatter Plot of Age vs Height')\n",
        "plt.xlabel('Age')\n",
        "plt.ylabel('Height')\n",
        "plt.show()\n"
      ],
      "metadata": {
        "colab": {
          "base_uri": "https://localhost:8080/",
          "height": 472
        },
        "id": "jnCQ9RblTdsy",
        "outputId": "d784dba6-b227-472a-b299-a97a61692ade"
      },
      "execution_count": 7,
      "outputs": [
        {
          "output_type": "display_data",
          "data": {
            "text/plain": [
              "<Figure size 640x480 with 1 Axes>"
            ],
            "image/png": "[encoded data removed]"
          },
          "metadata": {}
        }
      ]
    },
    {
      "cell_type": "code",
      "source": [
        "import numpy as np\n",
        "import pandas as pd\n",
        "\n",
        "# 1. Lists using Pandas\n",
        "list_data = [1, 2, 3, 4, 5]\n",
        "list_series = pd.Series(list_data)\n",
        "\n",
        "# 2. Arrays using NumPy\n",
        "array_data = np.array([1, 2, 3, 4, 5])\n",
        "\n",
        "# 3. Identifying their types\n",
        "print(\"Type of list_series:\", type(list_series))\n",
        "print(\"Type of array_data:\", type(array_data))\n",
        "\n",
        "# 4. Mathematical operations\n",
        "# Multiplication\n",
        "print(\"Multiplication:\")\n",
        "print(\"List multiplied by 2:\", list_series * 2)\n",
        "print(\"Array multiplied by 2:\", array_data * 2)\n",
        "\n",
        "# Division\n",
        "print(\"\\nDivision:\")\n",
        "print(\"List divided by 2:\", list_series / 2)\n",
        "print(\"Array divided by 2:\", array_data / 2)\n",
        "\n",
        "# Power off\n",
        "print(\"\\nPower off:\")\n",
        "print(\"List powered off by 2:\", list_series ** 2)\n",
        "print(\"Array powered off by 2:\", array_data ** 2)\n",
        "\n",
        "# 5. Combining text with NumPy functions\n",
        "text_output = np.array([\"Addition of Two:\", \"array1 + array2\"])\n",
        "print(\"\\n\".join(text_output))\n",
        "\n",
        "# 6. Implementing mathematical functions\n",
        "# np.sin()\n",
        "print(\"\\nSin of array_data:\")\n",
        "print(np.sin(array_data))\n",
        "\n",
        "# np.log()\n",
        "print(\"\\nLog of array_data (base e):\")\n",
        "print(np.log(array_data))\n",
        "\n",
        "# np.log2()\n",
        "print(\"\\nLog base 2 of array_data:\")\n",
        "print(np.log2(array_data))\n",
        "\n",
        "# np.exp()\n",
        "print(\"\\nExponential of array_data:\")\n",
        "print(np.exp(array_data))\n"
      ],
      "metadata": {
        "colab": {
          "base_uri": "https://localhost:8080/"
        },
        "id": "paV94oQmVPjS",
        "outputId": "fa82b35e-0d2b-4bd6-bd6f-0e2667147c7e"
      },
      "execution_count": 8,
      "outputs": [
        {
          "output_type": "stream",
          "name": "stdout",
          "text": [
            "Type of list_series: <class 'pandas.core.series.Series'>\n",
            "Type of array_data: <class 'numpy.ndarray'>\n",
            "Multiplication:\n",
            "List multiplied by 2: 0     2\n",
            "1     4\n",
            "2     6\n",
            "3     8\n",
            "4    10\n",
            "dtype: int64\n",
            "Array multiplied by 2: [ 2  4  6  8 10]\n",
            "\n",
            "Division:\n",
            "List divided by 2: 0    0.5\n",
            "1    1.0\n",
            "2    1.5\n",
            "3    2.0\n",
            "4    2.5\n",
            "dtype: float64\n",
            "Array divided by 2: [0.5 1.  1.5 2.  2.5]\n",
            "\n",
            "Power off:\n",
            "List powered off by 2: 0     1\n",
            "1     4\n",
            "2     9\n",
            "3    16\n",
            "4    25\n",
            "dtype: int64\n",
            "Array powered off by 2: [ 1  4  9 16 25]\n",
            "Addition of Two:\n",
            "array1 + array2\n",
            "\n",
            "Sin of array_data:\n",
            "[ 0.84147098  0.90929743  0.14112001 -0.7568025  -0.95892427]\n",
            "\n",
            "Log of array_data (base e):\n",
            "[0.         0.69314718 1.09861229 1.38629436 1.60943791]\n",
            "\n",
            "Log base 2 of array_data:\n",
            "[0.         1.         1.5849625  2.         2.32192809]\n",
            "\n",
            "Exponential of array_data:\n",
            "[  2.71828183   7.3890561   20.08553692  54.59815003 148.4131591 ]\n"
          ]
        }
      ]
    },
    {
      "cell_type": "code",
      "source": [
        "import numpy as np\n",
        "import pandas as pd\n",
        "\n",
        "# 1. Lists\n",
        "list1 = [1, 2, 3, 4, 5]\n",
        "list2 = [6, 7, 8, 9, 10]\n",
        "\n",
        "# 2. Arrays using NumPy\n",
        "array1 = np.array(list1)\n",
        "array2 = np.array(list2)\n",
        "\n",
        "# 3. Identifying types\n",
        "print(\"Type of list1:\", type(list1))\n",
        "print(\"Type of array1:\", type(array1))\n",
        "\n",
        "# 4. Mathematical operations\n",
        "print(\"Multiplication of array1 and array2:\", array1 * array2)\n",
        "print(\"Division of array1 by array2:\", array1 / array2)\n",
        "print(\"Power of array1 to array2:\", array1 ** array2)\n",
        "\n",
        "# 5. Combining text with NumPy function\n",
        "print(\"Addition of Two arrays:\", np.add(array1, array2))\n",
        "\n",
        "# 6. NumPy functions\n",
        "print(\"Sin of array1:\", np.sin(array1))\n",
        "print(\"Log of array1:\", np.log(array1))\n",
        "print(\"Log2 of array1:\", np.log2(array1))\n",
        "print(\"Exponential of array1:\", np.exp(array1))"
      ],
      "metadata": {
        "colab": {
          "base_uri": "https://localhost:8080/"
        },
        "id": "3cOFecPXVx6j",
        "outputId": "1edcc4a3-a896-4724-f9aa-e38086b0625b"
      },
      "execution_count": 9,
      "outputs": [
        {
          "output_type": "stream",
          "name": "stdout",
          "text": [
            "Type of list1: <class 'list'>\n",
            "Type of array1: <class 'numpy.ndarray'>\n",
            "Multiplication of array1 and array2: [ 6 14 24 36 50]\n",
            "Division of array1 by array2: [0.16666667 0.28571429 0.375      0.44444444 0.5       ]\n",
            "Power of array1 to array2: [      1     128    6561  262144 9765625]\n",
            "Addition of Two arrays: [ 7  9 11 13 15]\n",
            "Sin of array1: [ 0.84147098  0.90929743  0.14112001 -0.7568025  -0.95892427]\n",
            "Log of array1: [0.         0.69314718 1.09861229 1.38629436 1.60943791]\n",
            "Log2 of array1: [0.         1.         1.5849625  2.         2.32192809]\n",
            "Exponential of array1: [  2.71828183   7.3890561   20.08553692  54.59815003 148.4131591 ]\n"
          ]
        }
      ]
    }
  ]
}